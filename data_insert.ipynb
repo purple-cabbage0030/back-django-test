{
 "cells": [
  {
   "cell_type": "code",
   "execution_count": 3,
   "id": "aacf03e9",
   "metadata": {},
   "outputs": [],
   "source": [
    "# django shell 환경이 아닌 곳에서 그 기능을 사용하기 위해 필요한 설정\n",
    "import os\n",
    "os.environ['DJANGO_SETTINGS_MODULE'] = 'config.settings'   # root/config/settings.py 경로 지정\n",
    "os.environ['DJANGO_ALLOW_ASYNC_UNSAFE'] = 'true'\n",
    "\n",
    "import django\n",
    "django.setup()\n",
    "\n",
    "import pandas as pd\n",
    "from member.models import Activity\n",
    "from repository.models import Food\n"
   ]
  },
  {
   "cell_type": "markdown",
   "metadata": {},
   "source": [
    "# Activity data insert"
   ]
  },
  {
   "cell_type": "code",
   "execution_count": 19,
   "metadata": {},
   "outputs": [
    {
     "name": "stdout",
     "output_type": "stream",
     "text": [
      "{'uact': ['주로 좌식 생활', '주 1~3일 운동', '주 3~5일 운동', '거의 매일 운동', '매일 강도높게 운동'], 'val': [1.2, 1.3, 1.5, 1.7000000000000002, 1.9]} 5\n"
     ]
    }
   ],
   "source": [
    "act_data = pd.read_json('activity.json', encoding='utf-8')\n",
    "val = act_data.to_dict('list')\n",
    "print(val,len(act_data))"
   ]
  },
  {
   "cell_type": "code",
   "execution_count": 25,
   "metadata": {},
   "outputs": [],
   "source": [
    "for i in range(len(act_data)):\n",
    "    act = Activity(uact=val['uact'][i], val=round(val['val'][i], 1))\n",
    "    act.save()"
   ]
  },
  {
   "cell_type": "markdown",
   "metadata": {},
   "source": [
    "# Food data insert"
   ]
  },
  {
   "cell_type": "code",
   "execution_count": 4,
   "id": "4516d7ae",
   "metadata": {},
   "outputs": [
    {
     "name": "stdout",
     "output_type": "stream",
     "text": [
      "{'FID': ['F1', 'F2', 'F3', 'F4', 'F5', 'F6', 'F7', 'F8', 'F9', 'F10', 'F11', 'F12', 'F13', 'F14', 'F15', 'F16', 'F17', 'F18', 'F19'], 'FNAME': ['가지구이', '가츠동', '갈비구이', '감자구이', '감자그라탕', '감자샐러드', '감자스프', '바게트빵', '밥', '방울토마토', '소고기 구이', '수박', '스크램블에그', '액상요구르트', '양념치킨', '연어구이', '오믈렛', '짬뽕', '치킨너겟'], 'FAMOUNT': [100, 100, 100, 100, 100, 100, 100, 100, 100, 100, 100, 100, 100, 100, 100, 100, 100, 100, 100], 'FCAL': [60, 220, 240, 93, 132, 150, 43, 295, 130, 18, 240, 30, 148, 75, 267, 171, 154, 151, 210], 'FCARBOH': [7.49, 15.0, 0.89, 21.0, 11.0, 18.0, 5.84, 48.0, 28.0, 3.92, 0.0, 8.0, 1.6, 5.0, 13.8, 0.49, 0.6, 27.0, 11.0], 'FPROTEIN': [1.37, 13.0, 24.0, 2.5, 5.0, 2.0, 1.53, 10.0, 2.7, 0.88, 27.88, 0.6, 10.0, 4.5, 15.6, 23.97, 11.0, 6.0, 13.0], 'FFAT': [3.68, 11.0, 14.0, 0.1, 8.0, 8.0, 1.46, 0.3, 0.3, 0.2, 13.4, 0.2, 11.0, 3.9, 17.4, 7.56, 12.0, 2.0, 12.8]} 19\n"
     ]
    }
   ],
   "source": [
    "food_data = pd.read_csv('foodtable1.csv',encoding='cp949')\n",
    "menus = food_data.to_dict('list')\n",
    "print(menus,len(food_data))"
   ]
  },
  {
   "cell_type": "code",
   "execution_count": 6,
   "id": "c57f81f5",
   "metadata": {},
   "outputs": [],
   "source": [
    "for i in range(len(food_data)):\n",
    "    new_menu = Food(fid=menus['FID'][i],fname=menus['FNAME'][i],famount=menus['FAMOUNT'][i],\\\n",
    "                 fcal=menus['FCAL'][i],fcarboh=menus['FCARBOH'][i],fprotein=menus['FPROTEIN'][i],\\\n",
    "                 ffat=menus['FFAT'][i])\n",
    "    new_menu.save()"
   ]
  },
  {
   "cell_type": "code",
   "execution_count": null,
   "id": "4cbc5b50",
   "metadata": {},
   "outputs": [],
   "source": []
  }
 ],
 "metadata": {
  "interpreter": {
   "hash": "96b848c4bca258a2a63872b898c141524dc906dad33f68825714d3bd587441cc"
  },
  "kernelspec": {
   "display_name": "Python 3.8.5 64-bit ('base': conda)",
   "name": "python3"
  },
  "language_info": {
   "codemirror_mode": {
    "name": "ipython",
    "version": 3
   },
   "file_extension": ".py",
   "mimetype": "text/x-python",
   "name": "python",
   "nbconvert_exporter": "python",
   "pygments_lexer": "ipython3",
   "version": "3.8.5"
  },
  "toc": {
   "base_numbering": 1,
   "nav_menu": {},
   "number_sections": true,
   "sideBar": true,
   "skip_h1_title": false,
   "title_cell": "Table of Contents",
   "title_sidebar": "Contents",
   "toc_cell": false,
   "toc_position": {},
   "toc_section_display": true,
   "toc_window_display": false
  }
 },
 "nbformat": 4,
 "nbformat_minor": 5
}
